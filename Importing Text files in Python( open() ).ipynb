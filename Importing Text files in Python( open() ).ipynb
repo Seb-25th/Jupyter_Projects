{
 "cells": [
  {
   "cell_type": "code",
   "execution_count": 1,
   "id": "89f2f5ea",
   "metadata": {},
   "outputs": [],
   "source": [
    "filename = \"source.txt\""
   ]
  },
  {
   "cell_type": "code",
   "execution_count": 2,
   "id": "2215d03d",
   "metadata": {},
   "outputs": [
    {
     "data": {
      "text/plain": [
       "'source.txt'"
      ]
     },
     "execution_count": 2,
     "metadata": {},
     "output_type": "execute_result"
    }
   ],
   "source": [
    "filename"
   ]
  },
  {
   "cell_type": "code",
   "execution_count": 3,
   "id": "d090e024",
   "metadata": {
    "scrolled": true
   },
   "outputs": [],
   "source": [
    "file = open(filename, mode = 'r')\n"
   ]
  },
  {
   "cell_type": "code",
   "execution_count": 4,
   "id": "c0981d07",
   "metadata": {},
   "outputs": [],
   "source": [
    "text = file.read"
   ]
  },
  {
   "cell_type": "code",
   "execution_count": 5,
   "id": "a663b942",
   "metadata": {},
   "outputs": [],
   "source": [
    "text = file.read()"
   ]
  },
  {
   "cell_type": "code",
   "execution_count": 12,
   "id": "fec6e7ee",
   "metadata": {},
   "outputs": [
    {
     "data": {
      "text/plain": [
       "''"
      ]
     },
     "execution_count": 12,
     "metadata": {},
     "output_type": "execute_result"
    }
   ],
   "source": []
  },
  {
   "cell_type": "code",
   "execution_count": 15,
   "id": "3f9a510c",
   "metadata": {},
   "outputs": [],
   "source": [
    "file.close()"
   ]
  },
  {
   "cell_type": "code",
   "execution_count": 6,
   "id": "aad3734c",
   "metadata": {},
   "outputs": [],
   "source": [
    "with open(filename, mode = \"r\") as out_file:\n",
    "    out_file.read()"
   ]
  },
  {
   "cell_type": "code",
   "execution_count": 7,
   "id": "04838a3c",
   "metadata": {},
   "outputs": [
    {
     "name": "stdout",
     "output_type": "stream",
     "text": [
      "modo sekso\n",
      "\n"
     ]
    }
   ],
   "source": [
    "print(text)"
   ]
  },
  {
   "cell_type": "code",
   "execution_count": 8,
   "id": "2075d3a4",
   "metadata": {},
   "outputs": [],
   "source": [
    "with open('source.txt', 'w') as out_file:\n",
    "    out_file.write(\"Modo seksont\")"
   ]
  },
  {
   "cell_type": "code",
   "execution_count": 9,
   "id": "cd9063ba",
   "metadata": {},
   "outputs": [
    {
     "name": "stdout",
     "output_type": "stream",
     "text": [
      "<_io.TextIOWrapper name='source.txt' mode='w' encoding='cp1252'>\n"
     ]
    }
   ],
   "source": [
    "print(out_file)"
   ]
  },
  {
   "cell_type": "code",
   "execution_count": 11,
   "id": "2063fc7b",
   "metadata": {},
   "outputs": [],
   "source": [
    "file = open(filename, mode = 'r')\n",
    "text = file.read()\n",
    "file.close()"
   ]
  },
  {
   "cell_type": "code",
   "execution_count": 12,
   "id": "7b0ebfbf",
   "metadata": {},
   "outputs": [
    {
     "name": "stdout",
     "output_type": "stream",
     "text": [
      "Modo seksont\n"
     ]
    }
   ],
   "source": [
    "with open(filename, mode = 'r') as out_file:\n",
    "    new_text = out_file.read()\n",
    "print(new_text)"
   ]
  },
  {
   "cell_type": "code",
   "execution_count": null,
   "id": "408be201",
   "metadata": {},
   "outputs": [],
   "source": []
  }
 ],
 "metadata": {
  "kernelspec": {
   "display_name": "Python 3 (ipykernel)",
   "language": "python",
   "name": "python3"
  },
  "language_info": {
   "codemirror_mode": {
    "name": "ipython",
    "version": 3
   },
   "file_extension": ".py",
   "mimetype": "text/x-python",
   "name": "python",
   "nbconvert_exporter": "python",
   "pygments_lexer": "ipython3",
   "version": "3.10.9"
  }
 },
 "nbformat": 4,
 "nbformat_minor": 5
}
