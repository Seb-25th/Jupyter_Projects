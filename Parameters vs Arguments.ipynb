{
 "cells": [
  {
   "cell_type": "code",
   "execution_count": 1,
   "id": "76803f5b",
   "metadata": {},
   "outputs": [],
   "source": [
    "import pandas as pd"
   ]
  },
  {
   "cell_type": "code",
   "execution_count": 6,
   "id": "ec7762e2",
   "metadata": {},
   "outputs": [],
   "source": [
    "start_date_deposits = pd.Series({\n",
    "    '07/04/2014': 2000,\n",
    "    '01/02/2015': 2000,\n",
    "    '12/08/2012': 1000,\n",
    "    '09/03/2015': 4000,\n",
    "    '24/04/2016': 3000\n",
    "})\n"
   ]
  },
  {
   "cell_type": "code",
   "execution_count": 7,
   "id": "2a206842",
   "metadata": {},
   "outputs": [
    {
     "data": {
      "text/plain": [
       "07/04/2014    2000\n",
       "01/02/2015    2000\n",
       "12/08/2012    1000\n",
       "09/03/2015    4000\n",
       "24/04/2016    3000\n",
       "dtype: int64"
      ]
     },
     "execution_count": 7,
     "metadata": {},
     "output_type": "execute_result"
    }
   ],
   "source": [
    "start_date_deposits.head()"
   ]
  },
  {
   "cell_type": "code",
   "execution_count": 8,
   "id": "1fdee8b9",
   "metadata": {},
   "outputs": [
    {
     "data": {
      "text/plain": [
       "07/04/2014    2000\n",
       "01/02/2015    2000\n",
       "12/08/2012    1000\n",
       "dtype: int64"
      ]
     },
     "execution_count": 8,
     "metadata": {},
     "output_type": "execute_result"
    }
   ],
   "source": [
    "start_date_deposits.head(3)"
   ]
  },
  {
   "cell_type": "code",
   "execution_count": 11,
   "id": "89807da4",
   "metadata": {},
   "outputs": [
    {
     "data": {
      "text/plain": [
       "07/04/2014    2000\n",
       "dtype: int64"
      ]
     },
     "execution_count": 11,
     "metadata": {},
     "output_type": "execute_result"
    }
   ],
   "source": [
    "start_date_deposits.head(1)"
   ]
  },
  {
   "cell_type": "code",
   "execution_count": null,
   "id": "8af3e6f2",
   "metadata": {},
   "outputs": [],
   "source": []
  }
 ],
 "metadata": {
  "kernelspec": {
   "display_name": "Python 3 (ipykernel)",
   "language": "python",
   "name": "python3"
  },
  "language_info": {
   "codemirror_mode": {
    "name": "ipython",
    "version": 3
   },
   "file_extension": ".py",
   "mimetype": "text/x-python",
   "name": "python",
   "nbconvert_exporter": "python",
   "pygments_lexer": "ipython3",
   "version": "3.10.9"
  }
 },
 "nbformat": 4,
 "nbformat_minor": 5
}
