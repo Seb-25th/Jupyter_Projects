{
 "cells": [
  {
   "cell_type": "code",
   "execution_count": 1,
   "id": "19d6157c",
   "metadata": {},
   "outputs": [],
   "source": [
    "import pandas as pd"
   ]
  },
  {
   "cell_type": "code",
   "execution_count": 6,
   "id": "07305371",
   "metadata": {},
   "outputs": [
    {
     "data": {
      "text/plain": [
       "{'Product A': 1234, 'Product B': 5678, 'Product C': 91011}"
      ]
     },
     "execution_count": 6,
     "metadata": {},
     "output_type": "execute_result"
    }
   ],
   "source": [
    "price_per_category = {'Product A': 1234, 'Product B': 5678, 'Product C': 91011}\n",
    "price_per_category"
   ]
  },
  {
   "cell_type": "code",
   "execution_count": 7,
   "id": "42a2a858",
   "metadata": {},
   "outputs": [
    {
     "data": {
      "text/plain": [
       "Product A     1234\n",
       "Product B     5678\n",
       "Product C    91011\n",
       "dtype: int64"
      ]
     },
     "execution_count": 7,
     "metadata": {},
     "output_type": "execute_result"
    }
   ],
   "source": [
    "price_per_category = pd.Series(price_per_category)\n",
    "price_per_category"
   ]
  },
  {
   "cell_type": "code",
   "execution_count": null,
   "id": "440235a3",
   "metadata": {},
   "outputs": [],
   "source": []
  }
 ],
 "metadata": {
  "kernelspec": {
   "display_name": "Python 3 (ipykernel)",
   "language": "python",
   "name": "python3"
  },
  "language_info": {
   "codemirror_mode": {
    "name": "ipython",
    "version": 3
   },
   "file_extension": ".py",
   "mimetype": "text/x-python",
   "name": "python",
   "nbconvert_exporter": "python",
   "pygments_lexer": "ipython3",
   "version": "3.10.9"
  }
 },
 "nbformat": 4,
 "nbformat_minor": 5
}
