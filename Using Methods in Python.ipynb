{
 "cells": [
  {
   "cell_type": "code",
   "execution_count": 1,
   "id": "70b677e2",
   "metadata": {},
   "outputs": [],
   "source": [
    "import pandas as pd"
   ]
  },
  {
   "cell_type": "code",
   "execution_count": 3,
   "id": "23328ef3",
   "metadata": {},
   "outputs": [],
   "source": [
    "start_date_deposits = pd.Series({\n",
    "    '03/12/2013' : 2000,\n",
    "    '25/12/2015' : 2500,\n",
    "    '14/01/2015' : 2000,\n",
    "    '05/11/2014' : 1000,\n",
    "    '08/07/2013' : 2000,\n",
    "    '09/05/2014' : 1500,\n",
    "})"
   ]
  },
  {
   "cell_type": "code",
   "execution_count": 4,
   "id": "c2416f82",
   "metadata": {},
   "outputs": [
    {
     "data": {
      "text/plain": [
       "03/12/2013    2000\n",
       "25/12/2015    2500\n",
       "14/01/2015    2000\n",
       "05/11/2014    1000\n",
       "08/07/2013    2000\n",
       "09/05/2014    1500\n",
       "dtype: int64"
      ]
     },
     "execution_count": 4,
     "metadata": {},
     "output_type": "execute_result"
    }
   ],
   "source": [
    "start_date_deposits"
   ]
  },
  {
   "cell_type": "code",
   "execution_count": 6,
   "id": "e2f94787",
   "metadata": {},
   "outputs": [
    {
     "data": {
      "text/plain": [
       "11000"
      ]
     },
     "execution_count": 6,
     "metadata": {},
     "output_type": "execute_result"
    }
   ],
   "source": [
    "start_date_deposits.sum()"
   ]
  },
  {
   "cell_type": "markdown",
   "id": "135419d9",
   "metadata": {},
   "source": [
    "Sum method of all values"
   ]
  },
  {
   "cell_type": "code",
   "execution_count": 7,
   "id": "80c2e107",
   "metadata": {},
   "outputs": [
    {
     "data": {
      "text/plain": [
       "1000"
      ]
     },
     "execution_count": 7,
     "metadata": {},
     "output_type": "execute_result"
    }
   ],
   "source": [
    "start_date_deposits.min()"
   ]
  },
  {
   "cell_type": "markdown",
   "id": "7e80299d",
   "metadata": {},
   "source": [
    "Returns the minimum value for the vertical axis"
   ]
  },
  {
   "cell_type": "code",
   "execution_count": 8,
   "id": "348abe6e",
   "metadata": {},
   "outputs": [
    {
     "data": {
      "text/plain": [
       "2500"
      ]
     },
     "execution_count": 8,
     "metadata": {},
     "output_type": "execute_result"
    }
   ],
   "source": [
    "start_date_deposits.max()"
   ]
  },
  {
   "cell_type": "markdown",
   "id": "d6798d73",
   "metadata": {},
   "source": [
    "Returns the maximum value for the vertical axis"
   ]
  },
  {
   "cell_type": "code",
   "execution_count": 10,
   "id": "edeefcfa",
   "metadata": {},
   "outputs": [
    {
     "data": {
      "text/plain": [
       "'25/12/2015'"
      ]
     },
     "execution_count": 10,
     "metadata": {},
     "output_type": "execute_result"
    }
   ],
   "source": [
    "start_date_deposits.idxmax()"
   ]
  },
  {
   "cell_type": "markdown",
   "id": "88b80e71",
   "metadata": {},
   "source": [
    "Returns the index label corresponding to the highest value"
   ]
  },
  {
   "cell_type": "code",
   "execution_count": 11,
   "id": "403c650f",
   "metadata": {},
   "outputs": [
    {
     "data": {
      "text/plain": [
       "'05/11/2014'"
      ]
     },
     "execution_count": 11,
     "metadata": {},
     "output_type": "execute_result"
    }
   ],
   "source": [
    "start_date_deposits.idxmin()"
   ]
  },
  {
   "cell_type": "markdown",
   "id": "be44dc2b",
   "metadata": {},
   "source": [
    "Returns the index label corresponding to the lowest value"
   ]
  },
  {
   "cell_type": "code",
   "execution_count": 12,
   "id": "31e0e52a",
   "metadata": {},
   "outputs": [
    {
     "data": {
      "text/plain": [
       "03/12/2013    2000\n",
       "25/12/2015    2500\n",
       "14/01/2015    2000\n",
       "05/11/2014    1000\n",
       "08/07/2013    2000\n",
       "dtype: int64"
      ]
     },
     "execution_count": 12,
     "metadata": {},
     "output_type": "execute_result"
    }
   ],
   "source": [
    "start_date_deposits.head()"
   ]
  },
  {
   "cell_type": "markdown",
   "id": "b3e66a0a",
   "metadata": {},
   "source": [
    "Provides quick glimpse of the structure of the dataset"
   ]
  },
  {
   "cell_type": "code",
   "execution_count": null,
   "id": "ff68580e",
   "metadata": {},
   "outputs": [],
   "source": []
  }
 ],
 "metadata": {
  "kernelspec": {
   "display_name": "Python 3 (ipykernel)",
   "language": "python",
   "name": "python3"
  },
  "language_info": {
   "codemirror_mode": {
    "name": "ipython",
    "version": 3
   },
   "file_extension": ".py",
   "mimetype": "text/x-python",
   "name": "python",
   "nbconvert_exporter": "python",
   "pygments_lexer": "ipython3",
   "version": "3.10.9"
  }
 },
 "nbformat": 4,
 "nbformat_minor": 5
}
